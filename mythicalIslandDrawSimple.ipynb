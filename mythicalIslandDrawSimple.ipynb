{
 "cells": [
  {
   "cell_type": "code",
   "execution_count": 1,
   "id": "a0b962e9",
   "metadata": {},
   "outputs": [],
   "source": [
    "from mythicalIslandDrawScript import *"
   ]
  },
  {
   "cell_type": "code",
   "execution_count": 86,
   "id": "8adc5548",
   "metadata": {},
   "outputs": [
    {
     "name": "stdout",
     "output_type": "stream",
     "text": [
      "Card 1: Floette. Rarity: diamond\n",
      "Card 2: Snivy. Rarity: diamond\n",
      "Card 3: Chatot. Rarity: diamond\n",
      "Card 4: Mew EX. Rarity: four_diamond\n",
      "Card 5: Vaporeon ★. Rarity: star\n"
     ]
    }
   ],
   "source": [
    "# Speed draw: Run cell to instantly open a pack\n",
    "pack = Mythical_Island()\n",
    "draw = pack.open_pack()\n",
    "while not draw.empty():\n",
    "    card = draw.get()\n",
    "    print(card)"
   ]
  }
 ],
 "metadata": {
  "kernelspec": {
   "display_name": "base",
   "language": "python",
   "name": "python3"
  },
  "language_info": {
   "codemirror_mode": {
    "name": "ipython",
    "version": 3
   },
   "file_extension": ".py",
   "mimetype": "text/x-python",
   "name": "python",
   "nbconvert_exporter": "python",
   "pygments_lexer": "ipython3",
   "version": "3.12.7"
  }
 },
 "nbformat": 4,
 "nbformat_minor": 5
}
